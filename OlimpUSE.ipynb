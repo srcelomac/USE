{
  "nbformat": 4,
  "nbformat_minor": 0,
  "metadata": {
    "colab": {
      "provenance": [],
      "authorship_tag": "ABX9TyNvLgyalOAG4OzPP9yTyz/N",
      "include_colab_link": true
    },
    "kernelspec": {
      "name": "python3",
      "display_name": "Python 3"
    },
    "language_info": {
      "name": "python"
    }
  },
  "cells": [
    {
      "cell_type": "markdown",
      "metadata": {
        "id": "view-in-github",
        "colab_type": "text"
      },
      "source": [
        "<a href=\"https://colab.research.google.com/github/srcelomac/USE/blob/main/OlimpUSE.ipynb\" target=\"_parent\"><img src=\"https://colab.research.google.com/assets/colab-badge.svg\" alt=\"Open In Colab\"/></a>"
      ]
    },
    {
      "cell_type": "markdown",
      "source": [
        "ДЗ от 25 октября: ЕГЭ-17: 186, 216, 220, 228, 240, 258, 284, 285, 289;  \n",
        "ЕГЭ-26: 2-6, 21, 225\n"
      ],
      "metadata": {
        "id": "eorP7X6N9H7T"
      }
    },
    {
      "cell_type": "code",
      "source": [
        "with open('17-5.txt') as ff:\n",
        "    s = ff.read().split()\n",
        "    a = [int(x) for x in s]\n",
        "\n",
        "cnt = 0\n",
        "m = []\n",
        "\n",
        "for i in range(len(a)-1):\n",
        "  if ((a[i]%10 == 5) and (a[i+1]%10 == 5)):\n",
        "    cnt+=1\n",
        "    m.append(a[i]+a[i+1])\n",
        "\n",
        "print(cnt, max(m))"
      ],
      "metadata": {
        "colab": {
          "base_uri": "https://localhost:8080/"
        },
        "id": "znq5q7Wj94m7",
        "outputId": "50573da1-109c-4765-bb68-b7f548984af7"
      },
      "execution_count": 3,
      "outputs": [
        {
          "output_type": "stream",
          "name": "stdout",
          "text": [
            "1 40\n"
          ]
        }
      ]
    },
    {
      "cell_type": "code",
      "source": [
        "a = []\n",
        "sum = 0\n",
        "with open('17-1.txt') as ff:\n",
        "    s = ff.read().split()\n",
        "    for x in s:\n",
        "      a.append(int(x))\n",
        "      sum += int(x)\n",
        "\n",
        "armean = sum/len(a)\n",
        "cnt = 0\n",
        "m = []\n",
        "\n",
        "for i in range(len(a)-1):\n",
        "  if ((a[i] > armean or a[i+1] > armean) and (abs(a[i]) % 10 == 3 or abs(a[i+1]) % 10 == 3)):\n",
        "    cnt+=1\n",
        "    m.append(a[i]+a[i+1])\n",
        "\n",
        "print(cnt, max(m))"
      ],
      "metadata": {
        "colab": {
          "base_uri": "https://localhost:8080/"
        },
        "id": "39jBULvl-lC8",
        "outputId": "b3903d91-b1d3-4d01-d90b-b50ce0e98ff3"
      },
      "execution_count": 12,
      "outputs": [
        {
          "output_type": "stream",
          "name": "stdout",
          "text": [
            "1460 19378\n"
          ]
        }
      ]
    },
    {
      "cell_type": "code",
      "source": [
        "a = []\n",
        "sum = 0\n",
        "with open('17-1.txt') as ff:\n",
        "    s = ff.read().split()\n",
        "    for x in s:\n",
        "      a.append(int(x))\n",
        "      sum += int(x)\n",
        "\n",
        "armean = sum/len(a)\n",
        "cnt = 0\n",
        "m = []\n",
        "\n",
        "for i in range(len(a)-1):\n",
        "  if ((a[i] > armean and a[i+1] < armean) or (a[i] < armean and a[i+1] > armean)):\n",
        "    cnt+=1\n",
        "    m.append(a[i]+a[i+1])\n",
        "\n",
        "print(cnt, max(m))"
      ],
      "metadata": {
        "colab": {
          "base_uri": "https://localhost:8080/"
        },
        "id": "j1sNv076CaAi",
        "outputId": "c672f46f-cc6c-4e69-930e-12454a2c7dde"
      },
      "execution_count": 13,
      "outputs": [
        {
          "output_type": "stream",
          "name": "stdout",
          "text": [
            "5034 9788\n"
          ]
        }
      ]
    },
    {
      "cell_type": "code",
      "source": [
        "a = []\n",
        "sum = 0\n",
        "with open('17-1.txt') as ff:\n",
        "    s = ff.read().split()\n",
        "    for x in s:\n",
        "      a.append(int(x))\n",
        "      sum += int(x)\n",
        "\n",
        "armean = sum/len(a)\n",
        "cnt = 0\n",
        "m = []\n",
        "\n",
        "for i in range(len(a)-2):\n",
        "  if ((min(a[i], min(a[i+1], a[i+2])) < armean) and (abs(a[i]) % 3 == 0 or abs(a[i+1]) % 3 == 0 or abs(a[i+2] % 3 == 0))):\n",
        "    cnt+=1\n",
        "    m.append(a[i]+a[i+1]+a[i+2])\n",
        "\n",
        "print(cnt, max(m))"
      ],
      "metadata": {
        "colab": {
          "base_uri": "https://localhost:8080/"
        },
        "id": "03ihZQhtC9yq",
        "outputId": "0061837d-f77d-4c29-9c99-8da8c8d48dad"
      },
      "execution_count": 15,
      "outputs": [
        {
          "output_type": "stream",
          "name": "stdout",
          "text": [
            "6151 18891\n"
          ]
        }
      ]
    },
    {
      "cell_type": "code",
      "source": [
        "a = []\n",
        "sum = 0\n",
        "with open('17-1.txt') as ff:\n",
        "    s = ff.read().split()\n",
        "    for x in s:\n",
        "      a.append(int(x))\n",
        "      sum += int(x)\n",
        "\n",
        "armean = sum/len(a)\n",
        "cnt = 0\n",
        "m = []\n",
        "helpar = []\n",
        "\n",
        "for i in range(len(a)-2):\n",
        "  helpar = [a[i], a[i+1], a[i+2]]\n",
        "  helpar.sort()\n",
        "  if ((helpar[0] < armean and helpar[1] < armean) and (('6' in str(a[i])) or ('6' in str(a[i+1])) or ('6' in str(a[i+2])))):\n",
        "    cnt+=1\n",
        "    m.append(a[i]+a[i+1]+a[i+2])\n",
        "\n",
        "print(cnt, max(m))"
      ],
      "metadata": {
        "colab": {
          "base_uri": "https://localhost:8080/"
        },
        "id": "FE6bkTCvDlBS",
        "outputId": "5aa87e8c-8bb4-4aed-df00-31a5480c2b63"
      },
      "execution_count": 16,
      "outputs": [
        {
          "output_type": "stream",
          "name": "stdout",
          "text": [
            "3617 8416\n"
          ]
        }
      ]
    },
    {
      "cell_type": "code",
      "source": [
        "cnteven = 0\n",
        "cntodd = 0\n",
        "\n",
        "maxeven = -1\n",
        "mineven = 10001\n",
        "\n",
        "maxodd = -1\n",
        "minodd = 10001\n",
        "\n",
        "with open('17-257.txt') as ff:\n",
        "    s = ff.read().split()\n",
        "    for x in s:\n",
        "      if int(x) % 2 == 0:\n",
        "        maxeven = max(maxeven, int(x))\n",
        "        mineven = min(mineven, int(x))\n",
        "        cnteven += 1\n",
        "      if int(x) % 2 == 1:\n",
        "        maxodd = max(maxodd, int(x))\n",
        "        minodd = min(minodd, int(x))\n",
        "        cntodd += 1\n",
        "\n",
        "if (maxeven > maxodd):\n",
        "  print(cnteven, mineven)\n",
        "else:\n",
        "  print(cntodd, minodd)"
      ],
      "metadata": {
        "colab": {
          "base_uri": "https://localhost:8080/"
        },
        "id": "VHV1HPCEFeSh",
        "outputId": "3387aa73-bdab-4703-f65a-837c0c02a001"
      },
      "execution_count": 18,
      "outputs": [
        {
          "output_type": "stream",
          "name": "stdout",
          "text": [
            "507 268\n"
          ]
        }
      ]
    },
    {
      "cell_type": "code",
      "source": [
        "a = []\n",
        "maxel = -1\n",
        "with open('17-282.txt') as ff:\n",
        "    s = ff.read().split()\n",
        "    for x in s:\n",
        "      a.append(int(x))\n",
        "      if int(x) % 41 == 0:\n",
        "        maxel = max(maxel, int(x))\n",
        "\n",
        "\n",
        "cnt = 0\n",
        "m = []\n",
        "\n",
        "for i in range(len(a)-1):\n",
        "  if (a[i]+a[i+1] < maxel):\n",
        "    cnt+=1\n",
        "    m.append(a[i]+a[i+1])\n",
        "\n",
        "print(cnt, max(m))"
      ],
      "metadata": {
        "colab": {
          "base_uri": "https://localhost:8080/"
        },
        "id": "b0DE9PWwHJfp",
        "outputId": "84cb620c-0d5b-4c95-caaa-ed619ccb19ae"
      },
      "execution_count": 19,
      "outputs": [
        {
          "output_type": "stream",
          "name": "stdout",
          "text": [
            "3932 9962\n"
          ]
        }
      ]
    },
    {
      "cell_type": "code",
      "source": [
        "a = []\n",
        "minel = 10001\n",
        "with open('17-282.txt') as ff:\n",
        "    s = ff.read().split()\n",
        "    for x in s:\n",
        "      a.append(int(x))\n",
        "      if int(x) % 37 == 0:\n",
        "        minel = min(minel, int(x))\n",
        "\n",
        "\n",
        "cnt = 0\n",
        "m = []\n",
        "\n",
        "for i in range(len(a)-1):\n",
        "  num1 = 0\n",
        "  num2 = 0\n",
        "  nummin = 0\n",
        "\n",
        "  for x in str(a[i]):\n",
        "    num1 += int(x)\n",
        "\n",
        "  for x in str(a[i+1]):\n",
        "    num2 += int(x)\n",
        "\n",
        "  for x in str(minel):\n",
        "    nummin += int(x)\n",
        "\n",
        "  if ((num1 == nummin) or (num2 == nummin)):\n",
        "    cnt+=1\n",
        "    m.append(a[i]+a[i+1])\n",
        "\n",
        "print(cnt, min(m))"
      ],
      "metadata": {
        "colab": {
          "base_uri": "https://localhost:8080/"
        },
        "id": "wtNe4-GeIcuY",
        "outputId": "f9049cfe-5cd2-4e6f-fbd1-76931cc9d61d"
      },
      "execution_count": 25,
      "outputs": [
        {
          "output_type": "stream",
          "name": "stdout",
          "text": [
            "442 2423\n"
          ]
        }
      ]
    },
    {
      "cell_type": "code",
      "source": [
        "def functrans(num, k):\n",
        "  final = ''\n",
        "  if (num == 0): final = '0'\n",
        "  #print(num)\n",
        "  while (num > 0):\n",
        "    #print(\"swag\")\n",
        "    final = str(num%k) + final\n",
        "    num = num // k\n",
        "\n",
        "  #print(\"endswag\")\n",
        "\n",
        "  return int(final)\n",
        "\n",
        "def func1(helpar):\n",
        "  flag = False\n",
        "  for x in helpar:\n",
        "    if (abs(x) % 10 == 3):\n",
        "      flag = True\n",
        "\n",
        "  return flag\n",
        "\n",
        "def func2(helpar):\n",
        "  flag = True\n",
        "  for x in helpar:\n",
        "    n = functrans(abs(int(x)), 7)\n",
        "    if (n % 10 == 3):\n",
        "      flag = False\n",
        "\n",
        "  return flag\n",
        "\n",
        "a = []\n",
        "with open('17-288.txt') as ff:\n",
        "    s = ff.read().split()\n",
        "    for x in s:\n",
        "      a.append(int(x))\n",
        "\n",
        "cnt = 0\n",
        "m = []\n",
        "helpar = []\n",
        "\n",
        "for i in range(len(a)-3):\n",
        "  helpar = [a[i], a[i+1], a[i+2], a[i+3]]\n",
        "  helpar.sort()\n",
        "  if (func1(helpar) and func2(helpar)):\n",
        "    cnt+=1\n",
        "    m.append(helpar[3] - helpar[0])\n",
        "\n",
        "print(cnt, min(m))"
      ],
      "metadata": {
        "colab": {
          "base_uri": "https://localhost:8080/"
        },
        "id": "QaIiVu00J_Ew",
        "outputId": "83fb0c5b-2b9d-43b2-e190-6b9a27d7be11"
      },
      "execution_count": 49,
      "outputs": [
        {
          "output_type": "stream",
          "name": "stdout",
          "text": [
            "1318 639\n"
          ]
        }
      ]
    },
    {
      "cell_type": "code",
      "source": [
        "def functrans(num, k):\n",
        "  final = ''\n",
        "\n",
        "  while (num != 0):\n",
        "    final = str(num%k) + final\n",
        "    num = num // k\n",
        "\n",
        "  return int(final)\n",
        "\n",
        "x = input()\n",
        "print(functrans(int(x), 7) % 10)"
      ],
      "metadata": {
        "colab": {
          "base_uri": "https://localhost:8080/"
        },
        "id": "qgKSi-6vOkg2",
        "outputId": "87054f0d-3248-4433-bb94-3d868c13221f"
      },
      "execution_count": 36,
      "outputs": [
        {
          "output_type": "stream",
          "name": "stdout",
          "text": [
            "10\n",
            "3\n"
          ]
        }
      ]
    },
    {
      "cell_type": "code",
      "source": [
        "a = []\n",
        "n = 0\n",
        "k = 0\n",
        "with open('26-k1.txt') as ff:\n",
        "    s = ff.read().split()\n",
        "    n = int(s[0])\n",
        "    k = int(s[1])\n",
        "    a = [int(s[x]) for x in range(2, n)]\n",
        "\n",
        "a.sort(reverse=True)\n",
        "\n",
        "sum = 0\n",
        "for x in range(k):\n",
        "  sum += a[x]\n",
        "print(a[k], int(sum*0.2))"
      ],
      "metadata": {
        "colab": {
          "base_uri": "https://localhost:8080/"
        },
        "id": "tzoxW0AVTZ_e",
        "outputId": "1739cc4e-4f33-4402-c193-cb391bfc7eca"
      },
      "execution_count": 59,
      "outputs": [
        {
          "output_type": "stream",
          "name": "stdout",
          "text": [
            "9000 190680\n"
          ]
        }
      ]
    },
    {
      "cell_type": "code",
      "source": [
        "a = [1, 6, 7, 5]\n",
        "a.sort(reverse=True)\n",
        "a"
      ],
      "metadata": {
        "colab": {
          "base_uri": "https://localhost:8080/"
        },
        "id": "ZfAsblW5UiJl",
        "outputId": "40978736-4073-47b5-afb7-d67879dba2b1"
      },
      "execution_count": 51,
      "outputs": [
        {
          "output_type": "execute_result",
          "data": {
            "text/plain": [
              "[7, 6, 5, 1]"
            ]
          },
          "metadata": {},
          "execution_count": 51
        }
      ]
    }
  ]
}